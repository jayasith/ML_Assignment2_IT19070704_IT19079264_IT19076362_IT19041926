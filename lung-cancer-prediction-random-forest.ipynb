{
 "cells": [
  {
   "cell_type": "markdown",
   "id": "90c75746",
   "metadata": {},
   "source": [
    "# Lung Cancer Prediction\n",
    "<hr>\n",
    "\n",
    "### Lung Cancer Prediction using Random Forest"
   ]
  },
  {
   "cell_type": "code",
   "execution_count": null,
   "id": "1dc5dadc",
   "metadata": {},
   "outputs": [],
   "source": [
    "import pandas as pd\n",
    "import numpy as np\n",
    "import seaborn as sbn\n",
    "import matplotlib.pyplot as plt\n",
    "from sklearn.preprocessing import LabelEncoder\n",
    "from sklearn import tree\n",
    "from sklearn import linear_model\n",
    "from sklearn import ensemble\n",
    "from sklearn import svm\n",
    "from sklearn.model_selection import train_test_split"
   ]
  },
  {
   "cell_type": "markdown",
   "id": "87232507",
   "metadata": {},
   "source": [
    "#### Preprocessing the dataset"
   ]
  },
  {
   "cell_type": "code",
   "execution_count": null,
   "id": "f239a67b",
   "metadata": {},
   "outputs": [],
   "source": [
    "# Loading dataset into dataset\n",
    "data_set = pd.read_csv('./dataset/lung-cancer-dataset.csv')"
   ]
  },
  {
   "cell_type": "code",
   "execution_count": null,
   "id": "5b9c446f",
   "metadata": {},
   "outputs": [],
   "source": [
    "# Check if the dataset is loaded\n",
    "data_set.head(5)"
   ]
  },
  {
   "cell_type": "code",
   "execution_count": null,
   "id": "e7fbde94",
   "metadata": {},
   "outputs": [],
   "source": [
    "# Get the summary of dataset\n",
    "data_set.info()"
   ]
  },
  {
   "cell_type": "code",
   "execution_count": null,
   "id": "5fe96074",
   "metadata": {},
   "outputs": [],
   "source": [
    "# Checking if the null values in the dataset\n",
    "data_set.isnull().sum()"
   ]
  },
  {
   "cell_type": "code",
   "execution_count": null,
   "id": "461575a1",
   "metadata": {},
   "outputs": [],
   "source": [
    "# Setting up a new columns for Gender and Lung cancer results to represent as a numeric data\n",
    "labeled_gender = LabelEncoder()\n",
    "labeled_lung_cancer = LabelEncoder()\n",
    "\n",
    "data_set['GENDER_N'] = labeled_gender.fit_transform(data_set['GENDER'])\n",
    "data_set['LUNG_CANCER_N'] = labeled_lung_cancer.fit_transform(data_set['LUNG_CANCER'])"
   ]
  },
  {
   "cell_type": "code",
   "execution_count": null,
   "id": "1295d8d9",
   "metadata": {},
   "outputs": [],
   "source": [
    "data_set.head()"
   ]
  },
  {
   "cell_type": "code",
   "execution_count": null,
   "id": "8c2cb633",
   "metadata": {},
   "outputs": [],
   "source": [
    "# Dropping Gender and Lung cancer results columns as they represent string \n",
    "updated_data_set = data_set.drop(['GENDER','LUNG_CANCER'], axis = 'columns')\n",
    "\n",
    "# Export updated data set as a new csv\n",
    "updated_data_set.to_csv('./dataset/lung-cancer-dataset-updated.csv', index=False)\n",
    "updated_data_set.head()"
   ]
  },
  {
   "cell_type": "markdown",
   "id": "1a082f19",
   "metadata": {},
   "source": [
    "#### Data analysis & visualization"
   ]
  },
  {
   "cell_type": "code",
   "execution_count": null,
   "id": "0e8b0cb1",
   "metadata": {},
   "outputs": [],
   "source": [
    "# Visualize smoking posibilities\n",
    "sbn.countplot(x='SMOKING',data = updated_data_set)"
   ]
  },
  {
   "cell_type": "code",
   "execution_count": null,
   "id": "dd0755df",
   "metadata": {
    "scrolled": true
   },
   "outputs": [],
   "source": [
    "# Visualize lung cancer posibilities\n",
    "sbn.countplot(x='LUNG_CANCER_N',data = updated_data_set)"
   ]
  },
  {
   "cell_type": "code",
   "execution_count": null,
   "id": "9e1123fc",
   "metadata": {},
   "outputs": [],
   "source": [
    "correlation=updated_data_set.corrwith(updated_data_set['LUNG_CANCER_N'], method='pearson')\n",
    "correlation.plot(kind='bar')\n",
    "plt.show()"
   ]
  },
  {
   "cell_type": "code",
   "execution_count": null,
   "id": "c6c7ed17",
   "metadata": {},
   "outputs": [],
   "source": [
    "plt.figure(figsize=(10,10))\n",
    "sbn.violinplot(x='LUNG_CANCER_N', y='SMOKING', data=updated_data_set)"
   ]
  },
  {
   "cell_type": "code",
   "execution_count": null,
   "id": "d0734ce9",
   "metadata": {},
   "outputs": [],
   "source": [
    "plt.figure(figsize=(10,10))\n",
    "sbn.swarmplot(x='LUNG_CANCER_N', y='AGE', data=updated_data_set)"
   ]
  },
  {
   "cell_type": "code",
   "execution_count": null,
   "id": "93957ac2",
   "metadata": {},
   "outputs": [],
   "source": [
    "figures = plt.figure(figsize = (20,25))\n",
    "axis = figures.gca()\n",
    "updated_data_set.hist(ax = axis)"
   ]
  },
  {
   "cell_type": "code",
   "execution_count": null,
   "id": "ee7bb8a1",
   "metadata": {},
   "outputs": [],
   "source": [
    "lc0_data_set = updated_data_set[updated_data_set.LUNG_CANCER_N == 0]\n",
    "lc1_data_set = updated_data_set[updated_data_set.LUNG_CANCER_N == 1]"
   ]
  },
  {
   "cell_type": "code",
   "execution_count": null,
   "id": "8b011c06",
   "metadata": {},
   "outputs": [],
   "source": [
    "plt.xlabel('Age')\n",
    "plt.ylabel('Smoking')\n",
    "plt.scatter(lc0_data_set['AGE'],lc0_data_set['SMOKING'], color='red', marker='*')\n",
    "plt.scatter(lc1_data_set['AGE'],lc1_data_set['SMOKING'], color='green', marker='.')"
   ]
  },
  {
   "cell_type": "code",
   "execution_count": null,
   "id": "43a42232",
   "metadata": {},
   "outputs": [],
   "source": [
    "input_data_set = updated_data_set.drop('LUNG_CANCER_N', axis = 'columns')\n",
    "target_data_set = updated_data_set['LUNG_CANCER_N']"
   ]
  },
  {
   "cell_type": "code",
   "execution_count": null,
   "id": "8f2f50c5",
   "metadata": {},
   "outputs": [],
   "source": [
    "input_data_set"
   ]
  },
  {
   "cell_type": "code",
   "execution_count": null,
   "id": "2323ebc8",
   "metadata": {},
   "outputs": [],
   "source": [
    "target_data_set"
   ]
  },
  {
   "cell_type": "code",
   "execution_count": null,
   "id": "7676f190",
   "metadata": {},
   "outputs": [],
   "source": [
    "X_train_data, X_test_data, y_train_data, y_test_data = train_test_split(input_data_set, target_data_set, test_size = 0.25, random_state= 40)"
   ]
  },
  {
   "cell_type": "code",
   "execution_count": null,
   "id": "a8f8c237",
   "metadata": {},
   "outputs": [],
   "source": [
    "RFmodel = ensemble.RandomForestClassifier(n_estimators = 200)\n",
    "RFmodel.fit(X_train_data,y_train_data)"
   ]
  },
  {
   "cell_type": "code",
   "execution_count": null,
   "id": "d03c1948",
   "metadata": {},
   "outputs": [],
   "source": [
    "RFmodel.score(X_test_data,y_test_data)"
   ]
  },
  {
   "cell_type": "code",
   "execution_count": null,
   "id": "75c56674",
   "metadata": {},
   "outputs": [],
   "source": [
    "def get_inputs():\n",
    "    inputs = []\n",
    "    print('Please enter your Information:')\n",
    "    \n",
    "    age = input(\"Enter your AGE ?\\n\") \n",
    "    inputs.append(age)\n",
    "    smoking = input(\"Do you SMOKING ? Yes=2, No=1 \\n\") \n",
    "    inputs.append(smoking)\n",
    "    yellow_fingers = input(\"Do you have YELLOW FINGERS ? Yes=2, No=1 \\n\")\n",
    "    inputs.append(yellow_fingers)\n",
    "    anxiety = input(\"Do you have ANXIETY ? Yes=2, No=1 \\n\") \n",
    "    inputs.append(anxiety)\n",
    "    peer_pressure = input(\"Do you have PEER PRESSURE ? Yes=2, No=1 \\n\") \n",
    "    inputs.append(peer_pressure)\n",
    "    chronic_disease = input(\"Do you have CHRONIC DISEASE ? Yes=2, No=1 \\n\") \n",
    "    inputs.append(chronic_disease)\n",
    "    fatigue = input(\"Do you have FATIGUE ? Yes=2, No=1 \\n\")\n",
    "    inputs.append(fatigue)\n",
    "    allergy = input(\"Do you have ALLERGY ? Yes=2, No=1 \\n\") \n",
    "    inputs.append(allergy)\n",
    "    wheezing = input(\"Do you have WHEEZING ? Yes=2, No=1 \\n\") \n",
    "    inputs.append(wheezing)\n",
    "    alcohol = input(\"Do you drink too much alcohol ? Yes=2, No=1 \\n\") \n",
    "    inputs.append(alcohol)\n",
    "    coughing = input(\"Do you have COUGHING ? Yes=2, No=1 \\n\") \n",
    "    inputs.append(coughing)\n",
    "    breath = input(\"Do you have SHORTNESS OF BREATH ? Yes=2, No=1 \\n\") \n",
    "    inputs.append(breath)\n",
    "    swallowing  = input(\"Do you have DIFFICULTY SWALLOWING ? Yes=2, No=1 \\n\") \n",
    "    inputs.append(swallowing)\n",
    "    chest  = input(\"Do you have CHEST PAIN ? Yes=2, No=1 \\n\") \n",
    "    inputs.append(chest)\n",
    "    gender = input(\"Enter your GENDER ? F=0, M=1 \\n\")\n",
    "    inputs.append(gender)\n",
    "    \n",
    "    result = RFmodel.predict([inputs])\n",
    "    \n",
    "    print(\"\\nResult\")\n",
    "    if(result[0] == 1):\n",
    "        print(\"You have lung cancer\")\n",
    "    else:\n",
    "        print(\"You don't have lung cancer\")\n",
    "    \n",
    "\n",
    "get_inputs()\n"
   ]
  },
  {
   "cell_type": "code",
   "execution_count": null,
   "id": "b7e160a9",
   "metadata": {},
   "outputs": [],
   "source": []
  }
 ],
 "metadata": {
  "kernelspec": {
   "display_name": "Python 3 (ipykernel)",
   "language": "python",
   "name": "python3"
  },
  "language_info": {
   "codemirror_mode": {
    "name": "ipython",
    "version": 3
   },
   "file_extension": ".py",
   "mimetype": "text/x-python",
   "name": "python",
   "nbconvert_exporter": "python",
   "pygments_lexer": "ipython3",
   "version": "3.10.1"
  }
 },
 "nbformat": 4,
 "nbformat_minor": 5
}
