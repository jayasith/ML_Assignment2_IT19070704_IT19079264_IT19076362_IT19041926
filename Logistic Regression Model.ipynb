{
 "cells": [
  {
   "cell_type": "code",
   "execution_count": null,
   "id": "869b0892",
   "metadata": {},
   "outputs": [],
   "source": [
    "import pandas as pd\n",
    "import numpy as np\n",
    "import seaborn as sbn\n",
    "import matplotlib.pyplot as plt\n",
    "from sklearn.preprocessing import LabelEncoder\n",
    "from sklearn import ensemble\n",
    "from sklearn.model_selection import train_test_split"
   ]
  },
  {
   "cell_type": "markdown",
   "id": "58565b51",
   "metadata": {},
   "source": [
    "##Read dataset"
   ]
  },
  {
   "cell_type": "code",
   "execution_count": null,
   "id": "badfb4eb",
   "metadata": {},
   "outputs": [],
   "source": [
    "data_set = pd.read_csv('./dataset/lung-cancer-dataset.csv')"
   ]
  },
  {
   "cell_type": "code",
   "execution_count": null,
   "id": "6d3c85c7",
   "metadata": {
    "scrolled": false
   },
   "outputs": [],
   "source": [
    "data_set.head()"
   ]
  },
  {
   "cell_type": "code",
   "execution_count": null,
   "id": "a18c6258",
   "metadata": {},
   "outputs": [],
   "source": [
    "data_set.dtypes"
   ]
  },
  {
   "cell_type": "code",
   "execution_count": null,
   "id": "881a43b2",
   "metadata": {},
   "outputs": [],
   "source": [
    "data_set.info()"
   ]
  },
  {
   "cell_type": "code",
   "execution_count": null,
   "id": "52da0deb",
   "metadata": {},
   "outputs": [],
   "source": [
    "data_set.isnull().sum()"
   ]
  },
  {
   "cell_type": "code",
   "execution_count": null,
   "id": "8df5cae7",
   "metadata": {},
   "outputs": [],
   "source": [
    "labeled_gender = LabelEncoder()\n",
    "labeled_lung_cancer = LabelEncoder()"
   ]
  },
  {
   "cell_type": "markdown",
   "id": "11469c75",
   "metadata": {},
   "source": [
    "##Data preprocessing"
   ]
  },
  {
   "cell_type": "code",
   "execution_count": null,
   "id": "9ebde8f0",
   "metadata": {},
   "outputs": [],
   "source": [
    "# Setting up a new columns for Gender and Lung cancer results to represent as a numeric data\n",
    "data_set['GENDER_N'] = labeled_gender.fit_transform(data_set['GENDER'])\n",
    "data_set['LUNG_CANCER_N'] = labeled_gender.fit_transform(data_set['LUNG_CANCER'])\n",
    "data_set.head()"
   ]
  },
  {
   "cell_type": "code",
   "execution_count": null,
   "id": "c226fe04",
   "metadata": {},
   "outputs": [],
   "source": [
    "updated_data_set = data_set.drop(['GENDER','LUNG_CANCER'], axis = 'columns')\n",
    "updated_data_set.head()"
   ]
  },
  {
   "cell_type": "markdown",
   "id": "e5a92a17",
   "metadata": {},
   "source": [
    "##Plotting dataset"
   ]
  },
  {
   "cell_type": "code",
   "execution_count": null,
   "id": "1e39296d",
   "metadata": {},
   "outputs": [],
   "source": [
    "sbn.countplot(x='LUNG_CANCER_N',data = updated_data_set)"
   ]
  },
  {
   "cell_type": "code",
   "execution_count": null,
   "id": "0edaf478",
   "metadata": {},
   "outputs": [],
   "source": [
    "plt.figure(figsize=(10,10))\n",
    "sbn.violinplot(x='LUNG_CANCER_N', y='WHEEZING', data=updated_data_set)"
   ]
  },
  {
   "cell_type": "code",
   "execution_count": null,
   "id": "fc91b8fa",
   "metadata": {},
   "outputs": [],
   "source": [
    "plt.figure(figsize=(10,10))\n",
    "sbn.swarmplot(x='LUNG_CANCER_N', y='SMOKING', data=updated_data_set)"
   ]
  },
  {
   "cell_type": "code",
   "execution_count": null,
   "id": "707e8bd2",
   "metadata": {},
   "outputs": [],
   "source": [
    "input_data_set = updated_data_set.drop('LUNG_CANCER_N', axis = 'columns')\n",
    "target_data_set = updated_data_set['LUNG_CANCER_N']"
   ]
  },
  {
   "cell_type": "code",
   "execution_count": null,
   "id": "e04717b6",
   "metadata": {},
   "outputs": [],
   "source": [
    "input_data_set"
   ]
  },
  {
   "cell_type": "code",
   "execution_count": null,
   "id": "be34de33",
   "metadata": {},
   "outputs": [],
   "source": [
    "X_train_data, X_test_data, y_train_data, y_test_data = train_test_split(input_data_set, target_data_set, test_size = 0.25, random_state= 40)"
   ]
  },
  {
   "cell_type": "markdown",
   "id": "75f80227",
   "metadata": {},
   "source": [
    "## Logistic Regression Model"
   ]
  },
  {
   "cell_type": "code",
   "execution_count": null,
   "id": "8fa97000",
   "metadata": {},
   "outputs": [],
   "source": [
    "LRmodel = linear_model.LogisticRegression(solver='lbfgs', max_iter=1000)\n",
    "LRmodel.fit(X_train_data,y_train_data)\n",
    "LRmodel.score(X_test_data,y_test_data)"
   ]
  },
  {
   "cell_type": "markdown",
   "id": "131c1db5",
   "metadata": {},
   "source": [
    "## User Inputs "
   ]
  },
  {
   "cell_type": "code",
   "execution_count": null,
   "id": "ef4692f5",
   "metadata": {},
   "outputs": [],
   "source": [
    "def get_inputs():\n",
    "    inputs = []\n",
    "    print('Please enter your Information:')\n",
    "    \n",
    "    age = input(\"Enter your AGE ?\\n\") \n",
    "    inputs.append(age)\n",
    "    smoking = input(\"Do you SMOKING ? Yes=2, No=1 \\n\") \n",
    "    inputs.append(smoking)\n",
    "    yellow_fingers = input(\"Do you have YELLOW FINGERS ? Yes=2, No=1 \\n\")\n",
    "    inputs.append(yellow_fingers)\n",
    "    anxiety = input(\"Do you have ANXIETY ? Yes=2, No=1 \\n\") \n",
    "    inputs.append(anxiety)\n",
    "    peer_pressure = input(\"Do you have PEER PRESSURE ? Yes=2, No=1 \\n\") \n",
    "    inputs.append(peer_pressure)\n",
    "    chronic_disease = input(\"Do you have CHRONIC DISEASE ? Yes=2, No=1 \\n\") \n",
    "    inputs.append(chronic_disease)\n",
    "    fatigue = input(\"Do you have FATIGUE ? Yes=2, No=1 \\n\")\n",
    "    inputs.append(fatigue)\n",
    "    allergy = input(\"Do you have ALLERGY ? Yes=2, No=1 \\n\") \n",
    "    inputs.append(allergy)\n",
    "    wheezing = input(\"Do you have WHEEZING ? Yes=2, No=1 \\n\") \n",
    "    inputs.append(wheezing)\n",
    "    alcohol = input(\"Do you drink too much alcohol ? Yes=2, No=1 \\n\") \n",
    "    inputs.append(alcohol)\n",
    "    coughing = input(\"Do you have COUGHING ? Yes=2, No=1 \\n\") \n",
    "    inputs.append(coughing)\n",
    "    breath = input(\"Do you have SHORTNESS OF BREATH ? Yes=2, No=1 \\n\") \n",
    "    inputs.append(breath)\n",
    "    swallowing  = input(\"Do you have DIFFICULTY SWALLOWING ? Yes=2, No=1 \\n\") \n",
    "    inputs.append(swallowing)\n",
    "    chest  = input(\"Do you have CHEST PAIN ? Yes=2, No=1 \\n\") \n",
    "    inputs.append(chest)\n",
    "    gender = input(\"Enter your GENDER ? F=0, M=1 \\n\")\n",
    "    inputs.append(gender)\n",
    "    inputs= np.array(inputs, dtype=float)\n",
    "    result = LRmodel.predict([inputs])\n",
    "    \n",
    "    print(\"\\nResult\")\n",
    "    if(result[0] == 1):\n",
    "        print(\"You have lung cancer\")\n",
    "    else:\n",
    "        print(\"You don't have lung cancer\")\n",
    "    \n",
    "\n",
    "get_inputs()\n"
   ]
  }
 ],
 "metadata": {
  "kernelspec": {
   "display_name": "Python 3 (ipykernel)",
   "language": "python",
   "name": "python3"
  },
  "language_info": {
   "codemirror_mode": {
    "name": "ipython",
    "version": 3
   },
   "file_extension": ".py",
   "mimetype": "text/x-python",
   "name": "python",
   "nbconvert_exporter": "python",
   "pygments_lexer": "ipython3",
   "version": "3.10.4"
  }
 },
 "nbformat": 4,
 "nbformat_minor": 5
}
